{
 "cells": [
  {
   "cell_type": "markdown",
   "metadata": {},
   "source": [
    "# Prediciting Match Outcomes to beat the bookies"
   ]
  },
  {
   "cell_type": "markdown",
   "metadata": {},
   "source": [
    "## Introduction"
   ]
  },
  {
   "cell_type": "markdown",
   "metadata": {},
   "source": [
    "When someone is prepared to risk money, small or large, on their favourite sports team or simply as a bit of casual fun or may it be they are trying to make money. There is only one main aim and that is to beat the bookies and generate a higher return than initally staked.  \n",
    "\n",
    "The casual gambler might be putting on bets for their favorite sports team and may play based off emotions rather than informed decisions which more than likely leads to a number of losses.  \n",
    "\n",
    "However the professional sports bettor will use a combination of information and experience to understand whether the odds offered by the bookies are in favour of the house or not. They do not bet based off emotions but off years of experience and research. \n",
    "\n",
    "This project aims to replicate the knowledge that a professional punter would use to determine whether a bet is worth risking money on, whilst every individual has their own risk appetite we hope the models built in this project will be able to predict outcomes based on statistical properties of past matches. \n",
    "\n",
    "This could then aid bettors in making their decisions on what outcome to bet on and potentially beat the bookies. "
   ]
  },
  {
   "cell_type": "code",
   "execution_count": 1,
   "metadata": {},
   "outputs": [],
   "source": [
    "import numpy as np"
   ]
  },
  {
   "cell_type": "code",
   "execution_count": null,
   "metadata": {},
   "outputs": [],
   "source": []
  }
 ],
 "metadata": {
  "interpreter": {
   "hash": "bb9f406c0f70fca9801e60f2cbb7cd1ccff2ae2f74c58f513340bcf6cae5ecd0"
  },
  "kernelspec": {
   "display_name": "Python 3.9.12 64-bit",
   "language": "python",
   "name": "python3"
  },
  "language_info": {
   "codemirror_mode": {
    "name": "ipython",
    "version": 3
   },
   "file_extension": ".py",
   "mimetype": "text/x-python",
   "name": "python",
   "nbconvert_exporter": "python",
   "pygments_lexer": "ipython3",
   "version": "3.6.5"
  },
  "orig_nbformat": 4
 },
 "nbformat": 4,
 "nbformat_minor": 2
}
